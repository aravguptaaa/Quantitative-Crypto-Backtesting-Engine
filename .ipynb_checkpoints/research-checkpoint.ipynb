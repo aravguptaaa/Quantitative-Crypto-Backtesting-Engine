{
 "cells": [
  {
   "cell_type": "code",
   "execution_count": 8,
   "id": "8101e619-5ba4-4f8a-8006-a8b267aecc6e",
   "metadata": {},
   "outputs": [
    {
     "name": "stderr",
     "output_type": "stream",
     "text": [
      "/Users/aravgupta/Documents/PredictiveCryptoBot/quant-env/lib/python3.11/site-packages/tqdm/auto.py:21: TqdmWarning: IProgress not found. Please update jupyter and ipywidgets. See https://ipywidgets.readthedocs.io/en/stable/user_install.html\n",
      "  from .autonotebook import tqdm as notebook_tqdm\n"
     ]
    }
   ],
   "source": [
    "import pandas as pd\n",
    "import numpy as np\n",
    "import glob # Used to find all the files matching a pattern\n",
    "import os\n",
    "from tqdm.auto import tqdm # For showing a progress bar\n",
    "\n",
    "# --- Configuration ---\n",
    "DATA_DIR = 'data' # The folder where you saved your data\n",
    "PRICE_SHIFT = -10 # How many seconds into the future to predict the price\n",
    "                  # A negative number means we look into the future"
   ]
  },
  {
   "cell_type": "code",
   "execution_count": null,
   "id": "4fcad64a-6336-4858-a60a-79b6a3cdd6e2",
   "metadata": {},
   "outputs": [],
   "source": []
  },
  {
   "cell_type": "code",
   "execution_count": 9,
   "id": "d2dcfd55-dbd6-4a07-94a9-62b3e04ba863",
   "metadata": {},
   "outputs": [
    {
     "name": "stderr",
     "output_type": "stream",
     "text": [
      "Loading data files: 100%|████████████████████████████████████████████████████████████████████████████████| 1207/1207 [00:02<00:00, 501.88it/s]\n"
     ]
    },
    {
     "name": "stdout",
     "output_type": "stream",
     "text": [
      "Loaded 1207 snapshots.\n"
     ]
    },
    {
     "data": {
      "text/html": [
       "<div>\n",
       "<style scoped>\n",
       "    .dataframe tbody tr th:only-of-type {\n",
       "        vertical-align: middle;\n",
       "    }\n",
       "\n",
       "    .dataframe tbody tr th {\n",
       "        vertical-align: top;\n",
       "    }\n",
       "\n",
       "    .dataframe thead th {\n",
       "        text-align: right;\n",
       "    }\n",
       "</style>\n",
       "<table border=\"1\" class=\"dataframe\">\n",
       "  <thead>\n",
       "    <tr style=\"text-align: right;\">\n",
       "      <th></th>\n",
       "      <th>order_book</th>\n",
       "      <th>trades</th>\n",
       "    </tr>\n",
       "    <tr>\n",
       "      <th>timestamp</th>\n",
       "      <th></th>\n",
       "      <th></th>\n",
       "    </tr>\n",
       "  </thead>\n",
       "  <tbody>\n",
       "    <tr>\n",
       "      <th>2025-10-18 13:47:29.857072+00:00</th>\n",
       "      <td>{'asks': [[106832.0, 4.09724], [106832.01, 0.0...</td>\n",
       "      <td>[{'amount': 0.00108, 'cost': 115.3947492, 'dat...</td>\n",
       "    </tr>\n",
       "    <tr>\n",
       "      <th>2025-10-18 13:47:36.036002+00:00</th>\n",
       "      <td>{'asks': [[106832.0, 0.31345], [106832.01, 0.0...</td>\n",
       "      <td>[{'amount': 5e-05, 'cost': 5.342, 'datetime': ...</td>\n",
       "    </tr>\n",
       "    <tr>\n",
       "      <th>2025-10-18 13:47:41.397149+00:00</th>\n",
       "      <td>{'asks': [[106832.0, 0.21276], [106832.01, 0.0...</td>\n",
       "      <td>[{'amount': 6e-05, 'cost': 6.410235, 'datetime...</td>\n",
       "    </tr>\n",
       "    <tr>\n",
       "      <th>2025-10-18 13:47:46.760761+00:00</th>\n",
       "      <td>{'asks': [[106851.84, 0.7091], [106851.85, 0.0...</td>\n",
       "      <td>[{'amount': 6e-05, 'cost': 6.40992, 'datetime'...</td>\n",
       "    </tr>\n",
       "    <tr>\n",
       "      <th>2025-10-18 13:47:52.118733+00:00</th>\n",
       "      <td>{'asks': [[106844.8, 8.35012], [106844.81, 0.0...</td>\n",
       "      <td>[{'amount': 0.00511, 'cost': 545.91152, 'datet...</td>\n",
       "    </tr>\n",
       "  </tbody>\n",
       "</table>\n",
       "</div>"
      ],
      "text/plain": [
       "                                                                         order_book  \\\n",
       "timestamp                                                                             \n",
       "2025-10-18 13:47:29.857072+00:00  {'asks': [[106832.0, 4.09724], [106832.01, 0.0...   \n",
       "2025-10-18 13:47:36.036002+00:00  {'asks': [[106832.0, 0.31345], [106832.01, 0.0...   \n",
       "2025-10-18 13:47:41.397149+00:00  {'asks': [[106832.0, 0.21276], [106832.01, 0.0...   \n",
       "2025-10-18 13:47:46.760761+00:00  {'asks': [[106851.84, 0.7091], [106851.85, 0.0...   \n",
       "2025-10-18 13:47:52.118733+00:00  {'asks': [[106844.8, 8.35012], [106844.81, 0.0...   \n",
       "\n",
       "                                                                             trades  \n",
       "timestamp                                                                            \n",
       "2025-10-18 13:47:29.857072+00:00  [{'amount': 0.00108, 'cost': 115.3947492, 'dat...  \n",
       "2025-10-18 13:47:36.036002+00:00  [{'amount': 5e-05, 'cost': 5.342, 'datetime': ...  \n",
       "2025-10-18 13:47:41.397149+00:00  [{'amount': 6e-05, 'cost': 6.410235, 'datetime...  \n",
       "2025-10-18 13:47:46.760761+00:00  [{'amount': 6e-05, 'cost': 6.40992, 'datetime'...  \n",
       "2025-10-18 13:47:52.118733+00:00  [{'amount': 0.00511, 'cost': 545.91152, 'datet...  "
      ]
     },
     "execution_count": 9,
     "metadata": {},
     "output_type": "execute_result"
    }
   ],
   "source": [
    "# Find all the parquet files in the data directory\n",
    "files = sorted(glob.glob(os.path.join(DATA_DIR, '*.parquet')))\n",
    "\n",
    "# Read all files and combine them into a single DataFrame\n",
    "df_list = []\n",
    "for file in tqdm(files, desc=\"Loading data files\"):\n",
    "    try:\n",
    "        df_list.append(pd.read_parquet(file))\n",
    "    except Exception as e:\n",
    "        print(f\"Could not read file {file}: {e}\")\n",
    "\n",
    "raw_df = pd.concat(df_list, ignore_index=True)\n",
    "\n",
    "# Set the timestamp as the index for easier time-series operations\n",
    "raw_df.set_index('timestamp', inplace=True)\n",
    "\n",
    "print(f\"Loaded {len(raw_df)} snapshots.\")\n",
    "raw_df.head()"
   ]
  },
  {
   "cell_type": "code",
   "execution_count": null,
   "id": "e4179bdf-b598-49c4-8bb0-02139f592d82",
   "metadata": {},
   "outputs": [],
   "source": []
  },
  {
   "cell_type": "code",
   "execution_count": 10,
   "id": "089d563d-9498-4a53-9c9a-7e25b938de65",
   "metadata": {},
   "outputs": [],
   "source": [
    "# These functions will process one row of the raw DataFrame at a time.\n",
    "\n",
    "def calculate_mid_price(row):\n",
    "    \"\"\"Calculates the mid-price from the order book.\"\"\"\n",
    "    best_bid = row['order_book']['bids'][0][0] # Highest buy price\n",
    "    best_ask = row['order_book']['asks'][0][0] # Lowest sell price\n",
    "    return (best_bid + best_ask) / 2\n",
    "\n",
    "def calculate_bid_ask_spread(row):\n",
    "    \"\"\"Calculates the difference between the best bid and best ask.\"\"\"\n",
    "    best_bid = row['order_book']['bids'][0][0]\n",
    "    best_ask = row['order_book']['asks'][0][0]\n",
    "    return best_ask - best_bid\n",
    "\n",
    "def calculate_order_book_imbalance(row, depth=10):\n",
    "    \"\"\"\n",
    "    Calculates the Order Book Imbalance (OBI).\n",
    "    OBI = (Total Bid Volume) / (Total Bid Volume + Total Ask Volume)\n",
    "    A value > 0.5 suggests buying pressure, < 0.5 suggests selling pressure.\n",
    "    \"\"\"\n",
    "    bids_vol = sum([vol for price, vol in row['order_book']['bids'][:depth]])\n",
    "    asks_vol = sum([vol for price, vol in row['order_book']['asks'][:depth]])\n",
    "    total_vol = bids_vol + asks_vol\n",
    "    return bids_vol / total_vol if total_vol > 0 else 0.5\n",
    "\n",
    "def calculate_trade_flow(row, window=10):\n",
    "    \"\"\"\n",
    "    Calculates the recent trade flow.\n",
    "    Compares the volume of 'buy' vs 'sell' market orders in the last 'window' trades.\n",
    "    Returns the total volume of buy trades minus the total volume of sell trades.\n",
    "    \"\"\"\n",
    "    trade_list = row['trades']\n",
    "    if not isinstance(trade_list, list) or len(trade_list) == 0:\n",
    "        return 0\n",
    "\n",
    "    # Ensure slicing works correctly\n",
    "    trade_list = trade_list[:window]\n",
    "\n",
    "    buys = sum([trade['amount'] for trade in trade_list if trade['side'] == 'buy'])\n",
    "    sells = sum([trade['amount'] for trade in trade_list if trade['side'] == 'sell'])\n",
    "\n",
    "    return buys - sells"
   ]
  },
  {
   "cell_type": "code",
   "execution_count": null,
   "id": "aa882b31-fcb4-4a03-a452-c721e327060f",
   "metadata": {},
   "outputs": [],
   "source": []
  },
  {
   "cell_type": "code",
   "execution_count": 12,
   "id": "572a840c-805b-4ed3-a04b-239e904b2f96",
   "metadata": {
    "scrolled": true
   },
   "outputs": [
    {
     "name": "stderr",
     "output_type": "stream",
     "text": [
      "Calculating Features (Optimized): 100%|████████████████████████████████████████████████████████████████| 1207/1207 [00:00<00:00, 69259.52it/s]\n",
      "Calculating Features (Optimized): 100%|███████████████████████████████████████████████████████████████| 1207/1207 [00:00<00:00, 733380.40it/s]"
     ]
    },
    {
     "name": "stdout",
     "output_type": "stream",
     "text": [
      "Optimized feature calculation complete!\n",
      "Final dataset shape: (1197, 6)\n",
      "\n",
      "Target distribution:\n",
      "target\n",
      " 1    430\n",
      "-1    420\n",
      " 0    347\n",
      "Name: count, dtype: int64\n"
     ]
    },
    {
     "name": "stderr",
     "output_type": "stream",
     "text": [
      "\n",
      "/var/folders/6l/9wyl3y1x1_b6q0swtzrys8y80000gn/T/ipykernel_79401/747041622.py:49: SettingWithCopyWarning: \n",
      "A value is trying to be set on a copy of a slice from a DataFrame.\n",
      "Try using .loc[row_indexer,col_indexer] = value instead\n",
      "\n",
      "See the caveats in the documentation: https://pandas.pydata.org/pandas-docs/stable/user_guide/indexing.html#returning-a-view-versus-a-copy\n",
      "  final_df['target'] = final_df['target'].astype(int)\n"
     ]
    }
   ],
   "source": [
    "import pandas as pd\n",
    "import numpy as np\n",
    "from tqdm.auto import tqdm\n",
    "\n",
    "tqdm.pandas(desc=\"Calculating Features (Optimized)\")\n",
    "\n",
    "# --- Configuration ---\n",
    "PRICE_SHIFT = -10  # How many rows into the future to predict\n",
    "\n",
    "# --- Create empty DataFrame for features ---\n",
    "features_df = pd.DataFrame(index=raw_df.index)\n",
    "\n",
    "# --- Mid-price and Spread ---\n",
    "# Vectorized calculation: take first bid & ask from order book\n",
    "features_df['mid_price'] = raw_df['order_book'].apply(lambda ob: (ob['bids'][0][0] + ob['asks'][0][0]) / 2)\n",
    "features_df['spread'] = raw_df['order_book'].apply(lambda ob: ob['asks'][0][0] - ob['bids'][0][0])\n",
    "\n",
    "# --- Order Book Imbalance (OBI) ---\n",
    "def obi_vectorized(ob, depth=10):\n",
    "    bids_vol = sum([vol for price, vol in ob['bids'][:depth]])\n",
    "    asks_vol = sum([vol for price, vol in ob['asks'][:depth]])\n",
    "    total = bids_vol + asks_vol\n",
    "    return bids_vol / total if total > 0 else 0.5\n",
    "\n",
    "features_df['obi'] = raw_df['order_book'].progress_apply(obi_vectorized)\n",
    "\n",
    "# --- Trade Flow ---\n",
    "def trade_flow_vectorized(trades, window=10):\n",
    "    if not isinstance(trades, list) or len(trades) == 0:\n",
    "        return 0\n",
    "    trades = trades[:window]\n",
    "    buys = sum([t.get('amount', 0) for t in trades if t.get('side') == 'buy'])\n",
    "    sells = sum([t.get('amount', 0) for t in trades if t.get('side') == 'sell'])\n",
    "    return buys - sells\n",
    "\n",
    "features_df['trade_flow'] = raw_df['trades'].progress_apply(trade_flow_vectorized)\n",
    "\n",
    "# --- Target Calculation ---\n",
    "features_df['future_mid_price'] = features_df['mid_price'].shift(PRICE_SHIFT)\n",
    "price_change_pct = (features_df['future_mid_price'] - features_df['mid_price']) / features_df['mid_price']\n",
    "\n",
    "threshold = 0.0001  # 0.01%\n",
    "features_df['target'] = 0\n",
    "features_df.loc[price_change_pct > threshold, 'target'] = 1\n",
    "features_df.loc[price_change_pct < -threshold, 'target'] = -1\n",
    "\n",
    "# --- Clean up ---\n",
    "final_df = features_df.dropna()\n",
    "final_df['target'] = final_df['target'].astype(int)\n",
    "\n",
    "# --- Save processed data ---\n",
    "processed_data_path = 'processed_market_data.parquet'\n",
    "final_df.to_parquet(processed_data_path)\n",
    "\n",
    "print(\"Optimized feature calculation complete!\")\n",
    "print(f\"Final dataset shape: {final_df.shape}\")\n",
    "print(\"\\nTarget distribution:\")\n",
    "print(final_df['target'].value_counts())\n"
   ]
  },
  {
   "cell_type": "code",
   "execution_count": null,
   "id": "d6bc4128-4c33-4594-ad77-2729448d9086",
   "metadata": {},
   "outputs": [],
   "source": []
  },
  {
   "cell_type": "code",
   "execution_count": 13,
   "id": "7811cf65-603f-4052-b5a3-0324c8d2e547",
   "metadata": {},
   "outputs": [
    {
     "name": "stdout",
     "output_type": "stream",
     "text": [
      "Training data shape: (957, 3)\n",
      "Testing data shape: (240, 3)\n",
      "\n",
      "Training XGBoost model...\n",
      "Model training complete.\n",
      "\n",
      "Model saved to model.joblib\n"
     ]
    },
    {
     "name": "stderr",
     "output_type": "stream",
     "text": [
      "/Users/aravgupta/Documents/PredictiveCryptoBot/quant-env/lib/python3.11/site-packages/xgboost/training.py:199: UserWarning: [22:31:28] WARNING: /Users/runner/work/xgboost/xgboost/src/learner.cc:790: \n",
      "Parameters: { \"use_label_encoder\" } are not used.\n",
      "\n",
      "  bst.update(dtrain, iteration=i, fobj=obj)\n"
     ]
    }
   ],
   "source": [
    "import pandas as pd\n",
    "import xgboost as xgb\n",
    "import joblib\n",
    "\n",
    "# --- Configuration ---\n",
    "PROCESSED_DATA_PATH = 'processed_market_data.parquet'\n",
    "MODEL_SAVE_PATH = 'model.joblib'\n",
    "TEST_SIZE = 0.2\n",
    "\n",
    "# --- Load processed data ---\n",
    "df = pd.read_parquet(PROCESSED_DATA_PATH)\n",
    "X = df.drop(columns=['mid_price', 'future_mid_price', 'target'])\n",
    "y = df['target']\n",
    "\n",
    "# --- Time-series split ---\n",
    "split_index = int(len(df) * (1 - TEST_SIZE))\n",
    "X_train, X_test = X[:split_index], X[split_index:]\n",
    "y_train, y_test = y[:split_index], y[split_index:]\n",
    "\n",
    "print(f\"Training data shape: {X_train.shape}\")\n",
    "print(f\"Testing data shape: {X_test.shape}\")\n",
    "\n",
    "# --- Map labels for 3-class classification ---\n",
    "# {-1, 0, 1} -> {0, 1, 2}\n",
    "y_train_mapped = y_train + 1\n",
    "\n",
    "# --- Initialize XGBoost model (clean version, no warning) ---\n",
    "model = xgb.XGBClassifier(\n",
    "    objective='multi:softmax',  # Multi-class classification\n",
    "    num_class=3,                # Number of classes\n",
    "    eval_metric='mlogloss',     # Evaluation metric\n",
    "    n_estimators=100,\n",
    "    learning_rate=0.1,\n",
    "    max_depth=3,\n",
    "    subsample=0.8,\n",
    "    colsample_bytree=0.8,\n",
    "    random_state=42\n",
    ")\n",
    "\n",
    "# --- Train model ---\n",
    "print(\"\\nTraining XGBoost model...\")\n",
    "model.fit(X_train, y_train_mapped)\n",
    "print(\"Model training complete.\")\n",
    "\n",
    "# --- Save model ---\n",
    "joblib.dump(model, MODEL_SAVE_PATH)\n",
    "print(f\"\\nModel saved to {MODEL_SAVE_PATH}\")\n",
    "\n",
    "# --- Optional: Test predictions ---\n",
    "y_pred = model.predict(X_test)\n",
    "print(f\"\\nSample predictions: {y_pred[:10]}\")"
   ]
  },
  {
   "cell_type": "code",
   "execution_count": null,
   "id": "a851fa6b-9b29-4d1d-9d00-ac051d998cd3",
   "metadata": {},
   "outputs": [],
   "source": []
  },
  {
   "cell_type": "code",
   "execution_count": 2,
   "id": "7fbc1ce3-8729-4cf5-9ba8-d8558ac7541b",
   "metadata": {},
   "outputs": [
    {
     "name": "stdout",
     "output_type": "stream",
     "text": [
      "target\n",
      "0    3\n",
      "1    1\n",
      "Name: count, dtype: int64\n"
     ]
    }
   ],
   "source": [
    "print(df['target'].value_counts())"
   ]
  },
  {
   "cell_type": "code",
   "execution_count": null,
   "id": "ae26ea67-0837-4998-afb2-8fbbab815e30",
   "metadata": {},
   "outputs": [],
   "source": []
  }
 ],
 "metadata": {
  "kernelspec": {
   "display_name": "Python 3 (ipykernel)",
   "language": "python",
   "name": "python3"
  },
  "language_info": {
   "codemirror_mode": {
    "name": "ipython",
    "version": 3
   },
   "file_extension": ".py",
   "mimetype": "text/x-python",
   "name": "python",
   "nbconvert_exporter": "python",
   "pygments_lexer": "ipython3",
   "version": "3.11.8"
  }
 },
 "nbformat": 4,
 "nbformat_minor": 5
}
